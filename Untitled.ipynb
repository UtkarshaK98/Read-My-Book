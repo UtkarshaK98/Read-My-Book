{
 "cells": [
  {
   "cell_type": "code",
   "execution_count": 5,
   "id": "5b7dd5a8",
   "metadata": {},
   "outputs": [],
   "source": [
    "!git config --global user.name \"UtkarshaK98\"\n",
    "!git config --global user.email \"utkarshak2020ms@gmail.com\""
   ]
  },
  {
   "cell_type": "code",
   "execution_count": 6,
   "id": "97c14da1",
   "metadata": {},
   "outputs": [
    {
     "name": "stdout",
     "output_type": "stream",
     "text": [
      "Reinitialized existing Git repository in C:/Users/Utkarsha/CV_Projects/Read-My-Book/.git/\n"
     ]
    },
    {
     "name": "stderr",
     "output_type": "stream",
     "text": [
      "fatal: remote origin already exists.\n"
     ]
    },
    {
     "name": "stdout",
     "output_type": "stream",
     "text": [
      "On branch master\n",
      "nothing to commit, working tree clean\n"
     ]
    },
    {
     "name": "stderr",
     "output_type": "stream",
     "text": [
      "error: src refspec main does not match any\n",
      "error: failed to push some refs to 'https://github.com/UtkarshaK98/Read-My-Book'\n"
     ]
    }
   ],
   "source": [
    "# Initialize Git repository (if not already initialized)\n",
    "!git init\n",
    "\n",
    "# Add GitHub repository as a remote\n",
    "!git remote add origin https://github.com/UtkarshaK98/Read-My-Book\n",
    "\n",
    "# Stage all changes\n",
    "!git add .\n",
    "\n",
    "# Commit the changes\n",
    "!git commit -m \"Initial commit\"\n",
    "\n",
    "# Push the changes to GitHub\n",
    "!git push origin main"
   ]
  },
  {
   "cell_type": "code",
   "execution_count": null,
   "id": "49648ce9",
   "metadata": {},
   "outputs": [],
   "source": []
  }
 ],
 "metadata": {
  "kernelspec": {
   "display_name": "Python 3 (ipykernel)",
   "language": "python",
   "name": "python3"
  },
  "language_info": {
   "codemirror_mode": {
    "name": "ipython",
    "version": 3
   },
   "file_extension": ".py",
   "mimetype": "text/x-python",
   "name": "python",
   "nbconvert_exporter": "python",
   "pygments_lexer": "ipython3",
   "version": "3.10.9"
  }
 },
 "nbformat": 4,
 "nbformat_minor": 5
}
