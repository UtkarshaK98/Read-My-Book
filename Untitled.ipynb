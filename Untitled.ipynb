{
 "cells": [
  {
   "cell_type": "code",
   "execution_count": 13,
   "id": "2158f28c",
   "metadata": {},
   "outputs": [],
   "source": [
    "!git config --global user.name \"UtkarshaK98\"\n",
    "!git config --global user.email \"utkarshak2020ms@gmail.com\""
   ]
  },
  {
   "cell_type": "code",
   "execution_count": 14,
   "id": "a65e1e7d",
   "metadata": {},
   "outputs": [
    {
     "name": "stdout",
     "output_type": "stream",
     "text": [
      "Reinitialized existing Git repository in C:/Users/Utkarsha/CV_Projects/Read-My-Book/.git/\n"
     ]
    },
    {
     "name": "stderr",
     "output_type": "stream",
     "text": [
      "fatal: remote origin already exists.\n",
      "warning: LF will be replaced by CRLF in Untitled.ipynb.\n",
      "The file will have its original line endings in your working directory\n"
     ]
    },
    {
     "name": "stdout",
     "output_type": "stream",
     "text": [
      "[master ffb84cb] Initial commit\n",
      " 1 file changed, 18 insertions(+), 16 deletions(-)\n"
     ]
    },
    {
     "name": "stderr",
     "output_type": "stream",
     "text": [
      "Logon failed, use ctrl+c to cancel basic credential prompt.\n",
      "bash: /dev/tty: No such device or address\n",
      "error: failed to execute prompt script (exit code 1)\n",
      "fatal: could not read Username for 'https://github.com': No such file or directory\n"
     ]
    }
   ],
   "source": [
    "# Initialize Git repository (if not already initialized)\n",
    "!git init\n",
    "\n",
    "# Add GitHub repository as a remote\n",
    "!git remote add origin https://github.com/UtkarshaK98/Read-My-Book\n",
    "\n",
    "# Stage all changes\n",
    "!git add .\n",
    "\n",
    "# Commit the changes\n",
    "!git commit -m \"Initial commit\"\n",
    "\n",
    "# Push the changes to GitHub\n",
    "!git push origin master"
   ]
  },
  {
   "cell_type": "code",
   "execution_count": 15,
   "id": "bc2c5236",
   "metadata": {},
   "outputs": [
    {
     "name": "stdout",
     "output_type": "stream",
     "text": [
      "origin\thttps://github.com/UtkarshaK98/Read-My-Book (fetch)\n",
      "origin\thttps://github.com/UtkarshaK98/Read-My-Book (push)\n"
     ]
    }
   ],
   "source": [
    "!git remote -v"
   ]
  },
  {
   "cell_type": "code",
   "execution_count": 16,
   "id": "9553e101",
   "metadata": {},
   "outputs": [],
   "source": [
    "!git remote set-url origin https://github.com/UtkarshaK98/Read-My-Book"
   ]
  },
  {
   "cell_type": "code",
   "execution_count": null,
   "id": "052bc18a",
   "metadata": {},
   "outputs": [],
   "source": [
    "!git push origin master"
   ]
  },
  {
   "cell_type": "code",
   "execution_count": null,
   "id": "51138aff",
   "metadata": {},
   "outputs": [],
   "source": [
    "!git push origin main"
   ]
  }
 ],
 "metadata": {
  "kernelspec": {
   "display_name": "Python 3 (ipykernel)",
   "language": "python",
   "name": "python3"
  },
  "language_info": {
   "codemirror_mode": {
    "name": "ipython",
    "version": 3
   },
   "file_extension": ".py",
   "mimetype": "text/x-python",
   "name": "python",
   "nbconvert_exporter": "python",
   "pygments_lexer": "ipython3",
   "version": "3.10.9"
  }
 },
 "nbformat": 4,
 "nbformat_minor": 5
}
